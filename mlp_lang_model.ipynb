{
 "cells": [
  {
   "cell_type": "code",
   "execution_count": 1,
   "metadata": {},
   "outputs": [],
   "source": [
    "import math\n",
    "import numpy\n",
    "\n",
    "import torch\n",
    "import torch.nn.functional as F\n",
    "\n",
    "import matplotlib.pyplot as plt\n",
    "%matplotlib inline"
   ]
  },
  {
   "cell_type": "markdown",
   "metadata": {},
   "source": [
    "# Input"
   ]
  },
  {
   "cell_type": "code",
   "execution_count": 8,
   "metadata": {},
   "outputs": [
    {
     "name": "stdout",
     "output_type": "stream",
     "text": [
      "32033\n"
     ]
    },
    {
     "data": {
      "text/plain": [
       "['emma', 'olivia', 'ava', 'isabella', 'sophia', 'charlotte', 'mia', 'amelia']"
      ]
     },
     "execution_count": 8,
     "metadata": {},
     "output_type": "execute_result"
    }
   ],
   "source": [
    "words = open('names.txt', 'r').read().splitlines()\n",
    "print(f'{len(words)}')\n",
    "words[:8]"
   ]
  },
  {
   "cell_type": "markdown",
   "metadata": {},
   "source": [
    "lookup tables"
   ]
  },
  {
   "cell_type": "code",
   "execution_count": 33,
   "metadata": {},
   "outputs": [],
   "source": [
    "chars = list('abcdefghijklmnopqrstuvwxyz')\n",
    "stoi_lookup = {c: i+1 for i, c in enumerate(chars)}\n",
    "stoi_lookup['.'] = 0\n",
    "itos_lookups = {i: char for char, i in stoi_lookup.items()}"
   ]
  },
  {
   "cell_type": "markdown",
   "metadata": {},
   "source": [
    "### Dataset creation"
   ]
  },
  {
   "cell_type": "markdown",
   "metadata": {},
   "source": [
    "-  both BOS and EOS are represented using '.'\n",
    "\n",
    "- context - characters to be considered for the next prediction\n",
    "    - what would be context for the first letter? just '.', the number of '.' will depend on the length of the context\n",
    "\n",
    "\n",
    "- make sure to represent the EOS as well"
   ]
  },
  {
   "cell_type": "code",
   "execution_count": 79,
   "metadata": {},
   "outputs": [
    {
     "name": "stdout",
     "output_type": "stream",
     "text": [
      "word:  emma\n",
      "... ---> e\n",
      "..e ---> m\n",
      ".em ---> m\n",
      "emm ---> a\n",
      "mma ---> .\n",
      "word:  olivia\n",
      "... ---> o\n",
      "..o ---> l\n",
      ".ol ---> i\n",
      "oli ---> v\n",
      "liv ---> i\n",
      "ivi ---> a\n",
      "via ---> .\n",
      "word:  ava\n",
      "... ---> a\n",
      "..a ---> v\n",
      ".av ---> a\n",
      "ava ---> .\n"
     ]
    }
   ],
   "source": [
    "block_size = 3 # context length\n",
    "\n",
    "X, Y = [], []\n",
    "\n",
    "for word in words[:3]:\n",
    "    print('word: ', word)\n",
    "    context = [0] * block_size\n",
    "    seq = word + '.'    # don't forget to add the . add the end\n",
    "\n",
    "    for char in seq:\n",
    "        X.append(context)\n",
    "        # index of the character to be predicted\n",
    "        y_i = stoi_lookup[char]\n",
    "        Y.append(y_i)\n",
    "\n",
    "        print(''.join(itos_lookups[c] for c in context), '--->', itos_lookups[y_i])\n",
    "        context = context[1:] + [y_i]\n",
    "\n",
    "X = torch.tensor(X)\n",
    "Y = torch.tensor(Y)"
   ]
  },
  {
   "cell_type": "code",
   "execution_count": 80,
   "metadata": {},
   "outputs": [
    {
     "data": {
      "text/plain": [
       "(torch.Size([16, 3]), torch.int64, torch.Size([16]), torch.int64)"
      ]
     },
     "execution_count": 80,
     "metadata": {},
     "output_type": "execute_result"
    }
   ],
   "source": [
    "X.shape, X.dtype, Y.shape, Y.dtype"
   ]
  },
  {
   "cell_type": "code",
   "execution_count": 81,
   "metadata": {},
   "outputs": [
    {
     "name": "stdout",
     "output_type": "stream",
     "text": [
      "context:  tensor([0, 0, 0])  next char:  tensor(5)\n",
      "context:  tensor([0, 0, 5])  next char:  tensor(13)\n",
      "context:  tensor([ 0,  5, 13])  next char:  tensor(13)\n",
      "context:  tensor([ 5, 13, 13])  next char:  tensor(1)\n",
      "context:  tensor([13, 13,  1])  next char:  tensor(0)\n",
      "context:  tensor([0, 0, 0])  next char:  tensor(15)\n",
      "context:  tensor([ 0,  0, 15])  next char:  tensor(12)\n",
      "context:  tensor([ 0, 15, 12])  next char:  tensor(9)\n",
      "context:  tensor([15, 12,  9])  next char:  tensor(22)\n",
      "context:  tensor([12,  9, 22])  next char:  tensor(9)\n",
      "context:  tensor([ 9, 22,  9])  next char:  tensor(1)\n",
      "context:  tensor([22,  9,  1])  next char:  tensor(0)\n",
      "context:  tensor([0, 0, 0])  next char:  tensor(1)\n",
      "context:  tensor([0, 0, 1])  next char:  tensor(22)\n",
      "context:  tensor([ 0,  1, 22])  next char:  tensor(1)\n",
      "context:  tensor([ 1, 22,  1])  next char:  tensor(0)\n"
     ]
    }
   ],
   "source": [
    "for i in range(len(X)):\n",
    "    print(\"context: \", X[i], \" next char: \", Y[i])"
   ]
  },
  {
   "cell_type": "markdown",
   "metadata": {},
   "source": [
    "### Embeddings lookup table\n",
    "\n",
    "in [Bengio et al](https://www.jmlr.org/papers/volume3/bengio03a/bengio03a.pdf), 17k words were embeeded into 30 dims\n",
    "\n",
    "we have to embed 27 chars into small dims, lets start with 2 dims embedding for now"
   ]
  },
  {
   "cell_type": "code",
   "execution_count": 82,
   "metadata": {},
   "outputs": [
    {
     "data": {
      "text/plain": [
       "tensor([[ 0.4536, -1.8195],\n",
       "        [-1.0301,  0.7013],\n",
       "        [ 0.1819,  0.2704],\n",
       "        [ 0.0020,  0.9944],\n",
       "        [-1.0629, -0.5233],\n",
       "        [-1.2688, -0.9681],\n",
       "        [ 0.0637,  1.4289],\n",
       "        [-0.0888,  0.1548],\n",
       "        [ 1.6831,  0.7748],\n",
       "        [ 0.0676,  0.2906],\n",
       "        [ 0.2457,  0.2325],\n",
       "        [-0.3523, -0.0395],\n",
       "        [ 0.9890,  0.5769],\n",
       "        [ 0.7821,  0.2329],\n",
       "        [ 0.1841,  0.8453],\n",
       "        [-0.2311,  0.3022],\n",
       "        [-0.2406, -0.2248],\n",
       "        [ 0.5129, -0.5599],\n",
       "        [-0.4448, -0.2148],\n",
       "        [-0.2106,  1.1540],\n",
       "        [ 1.7741, -1.2536],\n",
       "        [-0.0752, -0.8449],\n",
       "        [ 1.0004, -0.3358],\n",
       "        [ 0.3133,  0.4065],\n",
       "        [-1.4924, -0.2883],\n",
       "        [-0.5654, -0.1525],\n",
       "        [-1.0318, -1.4119]])"
      ]
     },
     "execution_count": 82,
     "metadata": {},
     "output_type": "execute_result"
    }
   ],
   "source": [
    "# 27 chars emebedded into two dims randomly\n",
    "C = torch.randn((27, 2))\n",
    "C"
   ]
  },
  {
   "cell_type": "markdown",
   "metadata": {},
   "source": [
    "now we have to embed the integers in the input X using the above lookup table C"
   ]
  },
  {
   "cell_type": "code",
   "execution_count": 84,
   "metadata": {},
   "outputs": [
    {
     "data": {
      "text/plain": [
       "torch.Size([16, 3, 2])"
      ]
     },
     "execution_count": 84,
     "metadata": {},
     "output_type": "execute_result"
    }
   ],
   "source": [
    "embs = C[X]\n",
    "embs.shape"
   ]
  }
 ],
 "metadata": {
  "kernelspec": {
   "display_name": "Python 3.12.4 ('genAI')",
   "language": "python",
   "name": "python3"
  },
  "language_info": {
   "codemirror_mode": {
    "name": "ipython",
    "version": 3
   },
   "file_extension": ".py",
   "mimetype": "text/x-python",
   "name": "python",
   "nbconvert_exporter": "python",
   "pygments_lexer": "ipython3",
   "version": "3.12.4"
  },
  "orig_nbformat": 4,
  "vscode": {
   "interpreter": {
    "hash": "cdc7a2fc295da552623d6189d2d73e88b479f44ab32ab05a73d51a9a8b2f91f6"
   }
  }
 },
 "nbformat": 4,
 "nbformat_minor": 2
}

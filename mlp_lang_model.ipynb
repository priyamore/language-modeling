{
 "cells": [
  {
   "cell_type": "code",
   "execution_count": 104,
   "metadata": {},
   "outputs": [],
   "source": [
    "import math\n",
    "import random\n",
    "import numpy\n",
    "\n",
    "import torch\n",
    "import torch.nn.functional as F\n",
    "\n",
    "import matplotlib.pyplot as plt\n",
    "%matplotlib inline"
   ]
  },
  {
   "cell_type": "markdown",
   "metadata": {},
   "source": [
    "# Input"
   ]
  },
  {
   "cell_type": "code",
   "execution_count": 105,
   "metadata": {},
   "outputs": [
    {
     "name": "stdout",
     "output_type": "stream",
     "text": [
      "32033\n"
     ]
    },
    {
     "data": {
      "text/plain": [
       "['emma', 'olivia', 'ava', 'isabella', 'sophia', 'charlotte', 'mia', 'amelia']"
      ]
     },
     "execution_count": 105,
     "metadata": {},
     "output_type": "execute_result"
    }
   ],
   "source": [
    "words = open('names.txt', 'r').read().splitlines()\n",
    "print(f'{len(words)}')\n",
    "words[:8]"
   ]
  },
  {
   "cell_type": "markdown",
   "metadata": {},
   "source": [
    "lookup tables"
   ]
  },
  {
   "cell_type": "code",
   "execution_count": 106,
   "metadata": {},
   "outputs": [],
   "source": [
    "chars = list('abcdefghijklmnopqrstuvwxyz')\n",
    "stoi_lookup = {c: i+1 for i, c in enumerate(chars)}\n",
    "stoi_lookup['.'] = 0\n",
    "itos_lookups = {i: char for char, i in stoi_lookup.items()}"
   ]
  },
  {
   "cell_type": "markdown",
   "metadata": {},
   "source": [
    "### Dataset creation"
   ]
  },
  {
   "cell_type": "markdown",
   "metadata": {},
   "source": [
    "-  both BOS and EOS are represented using '.'\n",
    "\n",
    "- context - characters to be considered for the next prediction\n",
    "    - what would be context for the first letter? just '.', the number of '.' will depend on the length of the context\n",
    "\n",
    "\n",
    "- make sure to represent the EOS as well"
   ]
  },
  {
   "cell_type": "code",
   "execution_count": 107,
   "metadata": {},
   "outputs": [
    {
     "data": {
      "text/plain": [
       "(torch.Size([228146, 3]), torch.int64, torch.Size([228146]), torch.int64)"
      ]
     },
     "execution_count": 107,
     "metadata": {},
     "output_type": "execute_result"
    }
   ],
   "source": [
    "block_size = 3 # context length\n",
    "\n",
    "X, Y = [], []\n",
    "\n",
    "for word in words:\n",
    "    # print('word: ', word)\n",
    "    context = [0] * block_size\n",
    "    seq = word + '.'    # don't forget to add the . add the end\n",
    "\n",
    "    for char in seq:\n",
    "        X.append(context)\n",
    "        # index of the character to be predicted\n",
    "        y_i = stoi_lookup[char]\n",
    "        Y.append(y_i)\n",
    "        # print(''.join(itos_lookups[c] for c in context), '--->', itos_lookups[y_i])\n",
    "        context = context[1:] + [y_i]\n",
    "\n",
    "X = torch.tensor(X)\n",
    "Y = torch.tensor(Y)\n",
    "\n",
    "X.shape, X.dtype, Y.shape, Y.dtype\n",
    "\n",
    "# for i in range(len(X)):\n",
    "#     print(\"context: \", X[i], \" next char: \", Y[i])"
   ]
  },
  {
   "cell_type": "markdown",
   "metadata": {},
   "source": [
    "### Embeddings lookup table\n",
    "\n",
    "in [Bengio et al](https://www.jmlr.org/papers/volume3/bengio03a/bengio03a.pdf), 17k words were embeeded into 30 dims\n",
    "\n",
    "we have to embed 27 chars into small dims, lets start with 2 dims embedding for now"
   ]
  },
  {
   "cell_type": "code",
   "execution_count": 108,
   "metadata": {},
   "outputs": [
    {
     "data": {
      "text/plain": [
       "torch.Size([228146, 3, 2])"
      ]
     },
     "execution_count": 108,
     "metadata": {},
     "output_type": "execute_result"
    }
   ],
   "source": [
    "# 27 chars emebedded into two dims randomly\n",
    "dims = 2\n",
    "C = torch.randn((27, dims))\n",
    "\n",
    "# just to see what the embeddings are \n",
    "# for i, embed in enumerate(C):\n",
    "#     print(itos_lookups[i], \": \", embed)\n",
    "\n",
    "# now we have to embed the integers in the input X using the above lookup table C\n",
    "embs = C[X]\n",
    "embs.shape\n"
   ]
  },
  {
   "cell_type": "markdown",
   "metadata": {},
   "source": [
    "### Hidden & Output Layer\n",
    "\n",
    "- What would be the input to this layer?\n",
    "\n",
    "    the embedding have the shape [32, 3, 2] which means that we have 32 inputs and for each input so we have three(one for each character) two dims embeddings => 3 * 2 = 6\n",
    "\n",
    "- What would be the number of neurons, we can try it with different values, lets say 100 for now"
   ]
  },
  {
   "cell_type": "code",
   "execution_count": 10,
   "metadata": {},
   "outputs": [
    {
     "name": "stdout",
     "output_type": "stream",
     "text": [
      "torch.Size([27])\n"
     ]
    },
    {
     "data": {
      "text/plain": [
       "tensor(18.4791)"
      ]
     },
     "execution_count": 10,
     "metadata": {},
     "output_type": "execute_result"
    }
   ],
   "source": [
    "# hidden layer\n",
    "W1 = torch.randn((6, 100))\n",
    "b1 = torch.randn(100)\n",
    "h = torch.tanh(embs.view(-1, block_size*dims) @ W1 + b1)\n",
    "\n",
    "# output layer\n",
    "W2 = torch.randn(100, 27)\n",
    "b2 = torch.randn(27)\n",
    "\n",
    "logits = h @ W2 + b2\n",
    "counts = logits.exp()\n",
    "prob = counts /counts.sum(1, keepdim=True)\n",
    "print(prob[0].shape) # we have prob for all 27 chars for all our inputs\n",
    "\n",
    "# calculate the loss\n",
    "ix = torch.arange(32) # indices for all 32 outputs\n",
    "\n",
    "# Y is the index of the character that was predicted\n",
    "loss = -prob[ix, Y].log().mean() # nll\n",
    "loss"
   ]
  },
  {
   "cell_type": "markdown",
   "metadata": {},
   "source": [
    "### Putting the Network Together"
   ]
  },
  {
   "cell_type": "code",
   "execution_count": 128,
   "metadata": {},
   "outputs": [
    {
     "name": "stdout",
     "output_type": "stream",
     "text": [
      "the dataset:  torch.Size([228146, 3]) torch.Size([228146])\n",
      "10281\n"
     ]
    }
   ],
   "source": [
    "print(\"the dataset: \", X.shape, Y.shape)\n",
    "\n",
    "g = torch.Generator().manual_seed(2147483647)\n",
    "C = torch.randn((27, 2), generator=g)\n",
    "W1 = torch.randn((6, 300), generator=g)\n",
    "b1 = torch.randn(300, generator=g)\n",
    "W2 = torch.randn((300, 27), generator=g)\n",
    "b2 = torch.randn(27, generator=g)\n",
    "\n",
    "params = [C, W1, b1, W2, b2]\n",
    "\n",
    "print(sum(p.nelement() for p in params))"
   ]
  },
  {
   "cell_type": "code",
   "execution_count": 130,
   "metadata": {},
   "outputs": [],
   "source": [
    "# set the p.grad requires to true first so that we are able to get the grad for the params\n",
    "for p in params:\n",
    "    p.requires_grad = True"
   ]
  },
  {
   "cell_type": "code",
   "execution_count": 28,
   "metadata": {},
   "outputs": [
    {
     "name": "stdout",
     "output_type": "stream",
     "text": [
      "loss=tensor(19.5052, grad_fn=<NllLossBackward0>)\n",
      "loss=tensor(17.0845, grad_fn=<NllLossBackward0>)\n",
      "loss=tensor(15.7765, grad_fn=<NllLossBackward0>)\n",
      "loss=tensor(14.8333, grad_fn=<NllLossBackward0>)\n",
      "loss=tensor(14.0026, grad_fn=<NllLossBackward0>)\n",
      "loss=tensor(13.2533, grad_fn=<NllLossBackward0>)\n",
      "loss=tensor(12.5799, grad_fn=<NllLossBackward0>)\n",
      "loss=tensor(11.9831, grad_fn=<NllLossBackward0>)\n",
      "loss=tensor(11.4705, grad_fn=<NllLossBackward0>)\n",
      "loss=tensor(11.0519, grad_fn=<NllLossBackward0>)\n"
     ]
    }
   ],
   "source": [
    "for step in range(10):\n",
    "    # forward pass\n",
    "    embs = C[X]\n",
    "    h = torch.tanh(embs.view(-1, block_size*dims) @ W1 + b1)\n",
    "    logits = h @ W2 + b2\n",
    "    loss = F.cross_entropy(logits, Y) # does the same as calculating the counts and the summation and normalization\n",
    "    print(f'{loss=}')\n",
    "    \n",
    "    # backward pass\n",
    "    # set the gradients to 0 - IMP\n",
    "    for p in params:\n",
    "        p.grad = None\n",
    "    \n",
    "    # calculate the gradients of the loss w.r.t params\n",
    "    loss.backward()\n",
    "    \n",
    "    # update the params\n",
    "    for p in params:\n",
    "        l_rate = 0.1 # learning rate \n",
    "        p.data += -l_rate * p.grad"
   ]
  },
  {
   "cell_type": "markdown",
   "metadata": {},
   "source": [
    "mini_batches \n",
    "\n",
    "Why? \n",
    "- forwarding and backwarding 228146 takes a significant amout of time\n",
    "\n",
    "What? \n",
    "- mini batch - take some portion of the dataset, work on that(fwd, bkwd, update) on the mini batch, can this done be in parallel though? That would be rad!\n",
    "\n",
    "How? \n",
    "- what should be the size of the mini_batch, lets say 32, so each mini_batch will have 32 data points(their indices)"
   ]
  },
  {
   "cell_type": "markdown",
   "metadata": {},
   "source": [
    "Adding mini_batches to our NN"
   ]
  },
  {
   "cell_type": "code",
   "execution_count": 112,
   "metadata": {},
   "outputs": [
    {
     "name": "stdout",
     "output_type": "stream",
     "text": [
      "loss=tensor(2.6592, grad_fn=<NllLossBackward0>)\n"
     ]
    }
   ],
   "source": [
    "ix = torch.randint(0, X.shape[0], (32, ))\n",
    "\n",
    "for step in range(10000):\n",
    "    # forward pass\n",
    "    ix = torch.randint(0, X.shape[0], (32, ))\n",
    "    # make sure to only select the indices in the current mini batch\n",
    "    embs = C[X[ix]]\n",
    "    h = torch.tanh(embs.view(-1, block_size*dims) @ W1 + b1)\n",
    "    logits = h @ W2 + b2\n",
    "    # only select the indices in the current mini batch\n",
    "    loss = F.cross_entropy(logits, Y[ix])\n",
    "    # print(f'{loss=}')\n",
    "    # backward pass\n",
    "    # set the gradients to 0 - IMP\n",
    "    for p in params:\n",
    "        p.grad = None\n",
    "    \n",
    "    # calculate the gradients of the loss w.r.t params\n",
    "    loss.backward()\n",
    "    \n",
    "    l_rate = 0.1 # learning rate \n",
    "    # update the params\n",
    "    for p in params:\n",
    "        p.data += -l_rate * p.grad\n",
    "print(f'{loss=}')"
   ]
  },
  {
   "cell_type": "markdown",
   "metadata": {},
   "source": [
    "training(80%), val(10%), test(10%) splits \n",
    " - training set is used for optimizing the params of the model\n",
    " - validation set is used for training the hyperparameters(hidden layer size, embedding size etc)\n",
    " - evaluating the performance of the model"
   ]
  },
  {
   "cell_type": "code",
   "execution_count": 131,
   "metadata": {},
   "outputs": [
    {
     "name": "stdout",
     "output_type": "stream",
     "text": [
      "shapes:  torch.Size([182441, 3]) torch.Size([182441])\n",
      "shapes:  torch.Size([22902, 3]) torch.Size([22902])\n",
      "shapes:  torch.Size([22803, 3]) torch.Size([22803])\n"
     ]
    }
   ],
   "source": [
    "def build_dataset(words):\n",
    "    block_size = 3 # context length\n",
    "    X, Y = [], []\n",
    "    for word in words:\n",
    "        # print('word: ', word)\n",
    "        context = [0] * block_size\n",
    "        seq = word + '.'    # don't forget to add the . add the end\n",
    "\n",
    "        for char in seq:\n",
    "            X.append(context)\n",
    "            # index of the character to be predicted\n",
    "            y_i = stoi_lookup[char]\n",
    "            Y.append(y_i)\n",
    "            # print(''.join(itos_lookups[c] for c in context), '--->', itos_lookups[y_i])\n",
    "            context = context[1:] + [y_i]\n",
    "\n",
    "    X = torch.tensor(X)\n",
    "    Y = torch.tensor(Y)\n",
    "    print(\"shapes: \", X.shape, Y.shape)\n",
    "    return X, Y\n",
    "\n",
    "random.seed(42)\n",
    "random.shuffle(words)\n",
    "\n",
    "train_size = int(0.8*len(words))\n",
    "val_size = int(0.9*len(words))\n",
    "\n",
    "X_train, Y_train = build_dataset(words[:train_size])\n",
    "X_val, Y_val = build_dataset(words[train_size:val_size])\n",
    "X_test, Y_test = build_dataset(words[val_size:])"
   ]
  },
  {
   "cell_type": "code",
   "execution_count": 147,
   "metadata": {},
   "outputs": [],
   "source": [
    "# training\n",
    "\n",
    "ix = torch.randint(0, X_train.shape[0], (32, ))\n",
    "\n",
    "steps = []\n",
    "losses = []\n",
    "\n",
    "for step in range(30000):\n",
    "    # forward pass\n",
    "    ix = torch.randint(0, X_train.shape[0], (32, ))\n",
    "    # make sure to only select the indices in the current mini batch\n",
    "    embs = C[X_train[ix]]\n",
    "    h = torch.tanh(embs.view(-1, block_size*dims) @ W1 + b1)\n",
    "    logits = h @ W2 + b2\n",
    "    # only select the indices in the current mini batch\n",
    "    loss = F.cross_entropy(logits, Y_train[ix])\n",
    "    # print(f'{loss=}')\n",
    "    # backward pass\n",
    "    # set the gradients to 0 - IMP\n",
    "    for p in params:\n",
    "        p.grad = None\n",
    "    \n",
    "    # calculate the gradients of the loss w.r.t params\n",
    "    loss.backward()\n",
    "    \n",
    "    l_rate = 0.01 # learning rate \n",
    "    \n",
    "    # update the params\n",
    "    for p in params:\n",
    "        p.data += -l_rate * p.grad\n",
    "\n",
    "    steps.append(step)\n",
    "    losses.append(loss.item())\n",
    "# print(f'{loss=}')"
   ]
  },
  {
   "cell_type": "code",
   "execution_count": 148,
   "metadata": {},
   "outputs": [
    {
     "data": {
      "text/plain": [
       "tensor(2.2218, grad_fn=<NllLossBackward0>)"
      ]
     },
     "execution_count": 148,
     "metadata": {},
     "output_type": "execute_result"
    }
   ],
   "source": [
    "# training loss\n",
    "embs = C[X_train]\n",
    "h = torch.tanh(embs.view(-1, block_size*dims) @ W1 + b1)\n",
    "logits = h @ W2 + b2\n",
    "loss = F.cross_entropy(logits, Y_train)\n",
    "loss"
   ]
  },
  {
   "cell_type": "code",
   "execution_count": 149,
   "metadata": {},
   "outputs": [
    {
     "data": {
      "text/plain": [
       "tensor(2.2338, grad_fn=<NllLossBackward0>)"
      ]
     },
     "execution_count": 149,
     "metadata": {},
     "output_type": "execute_result"
    }
   ],
   "source": [
    "# validation loss\n",
    "\n",
    "embs = C[X_val]\n",
    "h = torch.tanh(embs.view(-1, block_size*dims) @ W1 + b1)\n",
    "logits = h @ W2 + b2\n",
    "loss = F.cross_entropy(logits, Y_val)\n",
    "loss"
   ]
  }
 ],
 "metadata": {
  "kernelspec": {
   "display_name": "Python 3.12.4 ('genAI')",
   "language": "python",
   "name": "python3"
  },
  "language_info": {
   "codemirror_mode": {
    "name": "ipython",
    "version": 3
   },
   "file_extension": ".py",
   "mimetype": "text/x-python",
   "name": "python",
   "nbconvert_exporter": "python",
   "pygments_lexer": "ipython3",
   "version": "3.12.4"
  },
  "orig_nbformat": 4,
  "vscode": {
   "interpreter": {
    "hash": "cdc7a2fc295da552623d6189d2d73e88b479f44ab32ab05a73d51a9a8b2f91f6"
   }
  }
 },
 "nbformat": 4,
 "nbformat_minor": 2
}

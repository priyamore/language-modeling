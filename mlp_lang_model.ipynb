{
 "cells": [
  {
   "cell_type": "code",
   "execution_count": 298,
   "metadata": {},
   "outputs": [],
   "source": [
    "import math\n",
    "import random\n",
    "import numpy\n",
    "\n",
    "import torch\n",
    "import torch.nn.functional as F\n",
    "\n",
    "import matplotlib.pyplot as plt\n",
    "%matplotlib inline"
   ]
  },
  {
   "cell_type": "markdown",
   "metadata": {},
   "source": [
    "# Input"
   ]
  },
  {
   "cell_type": "code",
   "execution_count": 299,
   "metadata": {},
   "outputs": [
    {
     "name": "stdout",
     "output_type": "stream",
     "text": [
      "32033\n"
     ]
    },
    {
     "data": {
      "text/plain": [
       "['emma', 'olivia', 'ava', 'isabella', 'sophia', 'charlotte', 'mia', 'amelia']"
      ]
     },
     "execution_count": 299,
     "metadata": {},
     "output_type": "execute_result"
    }
   ],
   "source": [
    "words = open('names.txt', 'r').read().splitlines()\n",
    "print(f'{len(words)}')\n",
    "words[:8]"
   ]
  },
  {
   "cell_type": "markdown",
   "metadata": {},
   "source": [
    "lookup tables"
   ]
  },
  {
   "cell_type": "code",
   "execution_count": 300,
   "metadata": {},
   "outputs": [],
   "source": [
    "chars = list('abcdefghijklmnopqrstuvwxyz')\n",
    "stoi_lookup = {c: i+1 for i, c in enumerate(chars)}\n",
    "stoi_lookup['.'] = 0\n",
    "itos_lookups = {i: char for char, i in stoi_lookup.items()}"
   ]
  },
  {
   "cell_type": "markdown",
   "metadata": {},
   "source": [
    "Dataset creation"
   ]
  },
  {
   "cell_type": "code",
   "execution_count": 301,
   "metadata": {},
   "outputs": [],
   "source": [
    "block_size = 3 # context length\n",
    "X, Y = [], []\n",
    "for word in words:\n",
    "    # print('word: ', word)\n",
    "    context = [0] * block_size\n",
    "    seq = word + '.'    # don't forget to add the . add the end\n",
    "\n",
    "    for char in seq:\n",
    "        X.append(context)\n",
    "        # index of the character to be predicted\n",
    "        y_i = stoi_lookup[char]\n",
    "        Y.append(y_i)\n",
    "        # print(''.join(itos_lookups[c] for c in context), '--->', itos_lookups[y_i])\n",
    "        context = context[1:] + [y_i]\n",
    "\n",
    "X = torch.tensor(X)\n",
    "Y = torch.tensor(Y)"
   ]
  },
  {
   "cell_type": "markdown",
   "metadata": {},
   "source": [
    "### Embeddings lookup table\n",
    "\n",
    "in [Bengio et al](https://www.jmlr.org/papers/volume3/bengio03a/bengio03a.pdf), 17k words were embeeded into 30 dims\n",
    "\n",
    "we have to embed 27 chars into small dims, lets start with 2 dims embedding for now"
   ]
  },
  {
   "cell_type": "code",
   "execution_count": 302,
   "metadata": {},
   "outputs": [
    {
     "data": {
      "text/plain": [
       "torch.Size([228146, 3, 12])"
      ]
     },
     "execution_count": 302,
     "metadata": {},
     "output_type": "execute_result"
    }
   ],
   "source": [
    "# 27 chars emebedded into two dims randomly\n",
    "dims = 12\n",
    "C = torch.randn((27, dims))\n",
    "\n",
    "# now we have to embed the integers in the input X using the above lookup table C\n",
    "embs = C[X]\n",
    "embs.shape"
   ]
  },
  {
   "cell_type": "markdown",
   "metadata": {},
   "source": [
    "Hidden & Output Layer\n",
    "\n",
    "- What would be the input to this layer?\n",
    "\n",
    "    the embedding have the shape [32, 3, 2] which means that we have 32 inputs and for each input so we have three(one for each character) two dims embeddings => 3 * 2 = 6\n",
    "\n",
    "- What would be the number of neurons, we can try it with different values, lets say 100 for now"
   ]
  },
  {
   "cell_type": "markdown",
   "metadata": {},
   "source": [
    "### Build the Dataset\n",
    "\n",
    "-  both BOS and EOS are represented using '.'\n",
    "\n",
    "- context - characters to be considered for the next prediction\n",
    "    - what would be context for the first letter? just '.', the number of '.' will depend on the length of the context\n",
    "\n",
    "\n",
    "- make sure to represent the EOS as well"
   ]
  },
  {
   "cell_type": "code",
   "execution_count": 303,
   "metadata": {},
   "outputs": [],
   "source": [
    "def build_dataset(words):\n",
    "    block_size = 3 # context length\n",
    "    X, Y = [], []\n",
    "    for word in words:\n",
    "        # print('word: ', word)\n",
    "        context = [0] * block_size\n",
    "        seq = word + '.'    # don't forget to add the . add the end\n",
    "\n",
    "        for char in seq:\n",
    "            X.append(context)\n",
    "            # index of the character to be predicted\n",
    "            y_i = stoi_lookup[char]\n",
    "            Y.append(y_i)\n",
    "            # print(''.join(itos_lookups[c] for c in context), '--->', itos_lookups[y_i])\n",
    "            context = context[1:] + [y_i]\n",
    "\n",
    "    X = torch.tensor(X)\n",
    "    Y = torch.tensor(Y)\n",
    "    print(\"shapes: \", X.shape, Y.shape)\n",
    "    return X, Y"
   ]
  },
  {
   "cell_type": "markdown",
   "metadata": {},
   "source": [
    "training(80%), val(10%), test(10%) splits \n",
    " - training set is used for optimizing the params of the model\n",
    " - validation set is used for training the hyperparameters(hidden layer size, embedding size etc)\n",
    " - evaluating the performance of the model"
   ]
  },
  {
   "cell_type": "code",
   "execution_count": 304,
   "metadata": {},
   "outputs": [
    {
     "name": "stdout",
     "output_type": "stream",
     "text": [
      "shapes:  torch.Size([182625, 3]) torch.Size([182625])\n",
      "shapes:  torch.Size([22655, 3]) torch.Size([22655])\n",
      "shapes:  torch.Size([22866, 3]) torch.Size([22866])\n"
     ]
    }
   ],
   "source": [
    "random.seed(42)\n",
    "random.shuffle(words)\n",
    "\n",
    "train_size = int(0.8*len(words))\n",
    "val_size = int(0.9*len(words))\n",
    "\n",
    "X_train, Y_train = build_dataset(words[:train_size])\n",
    "X_val, Y_val = build_dataset(words[train_size:val_size])\n",
    "X_test, Y_test = build_dataset(words[val_size:])"
   ]
  },
  {
   "cell_type": "markdown",
   "metadata": {},
   "source": [
    "### Build the Network"
   ]
  },
  {
   "cell_type": "code",
   "execution_count": 305,
   "metadata": {},
   "outputs": [
    {
     "name": "stdout",
     "output_type": "stream",
     "text": [
      "13151\n"
     ]
    }
   ],
   "source": [
    "g = torch.Generator().manual_seed(2147483647)\n",
    "C = torch.randn((27, 12), generator=g)\n",
    "W1 = torch.randn((36, 200), generator=g)\n",
    "b1 = torch.randn(200, generator=g)\n",
    "W2 = torch.randn((200, 27), generator=g)\n",
    "b2 = torch.randn(27, generator=g)\n",
    "\n",
    "params = [C, W1, b1, W2, b2]\n",
    "\n",
    "print(sum(p.nelement() for p in params))\n",
    "\n",
    "# set the p.grad requires to true first so that we are able to get the grad for the params\n",
    "for p in params:\n",
    "    p.requires_grad = True"
   ]
  },
  {
   "cell_type": "markdown",
   "metadata": {},
   "source": [
    "### Train the Network"
   ]
  },
  {
   "cell_type": "code",
   "execution_count": 306,
   "metadata": {},
   "outputs": [],
   "source": [
    "batch_size = 32\n",
    "\n",
    "ix = torch.randint(0, X_train.shape[0], (batch_size, ))\n",
    "\n",
    "steps = []\n",
    "losses = []"
   ]
  },
  {
   "cell_type": "code",
   "execution_count": 307,
   "metadata": {},
   "outputs": [],
   "source": [
    "# training\n",
    "\n",
    "for step in range(300000):\n",
    "    # forward pass\n",
    "    ix = torch.randint(0, X_train.shape[0], (batch_size, ))\n",
    "    # make sure to only select the indices in the current mini batch\n",
    "    embs = C[X_train[ix]]\n",
    "    h = torch.tanh(embs.view(-1, 3*dims) @ W1 + b1)\n",
    "    logits = h @ W2 + b2\n",
    "    # only select the indices in the current mini batch\n",
    "    loss = F.cross_entropy(logits, Y_train[ix])\n",
    "    # print(f'{loss=}')\n",
    "    \n",
    "    # backward pass\n",
    "    # set the gradients to 0 - IMP\n",
    "    for p in params:\n",
    "        p.grad = None\n",
    "    \n",
    "    # calculate the gradients of the loss w.r.t params\n",
    "    loss.backward()\n",
    "\n",
    "    if step < 100000:\n",
    "        l_rate = 0.1\n",
    "    elif 100000 <= step < 200000:\n",
    "        l_rate = 0.01\n",
    "    else:\n",
    "        l_rate = 0.001\n",
    "    \n",
    "    # l_rate = 0.1 if step < 100000 else 0.01 # learning rate \n",
    "    \n",
    "    # update the params\n",
    "    for p in params:\n",
    "        p.data += -l_rate * p.grad\n",
    "\n",
    "    steps.append(step)\n",
    "    losses.append(loss.log10().item())\n",
    "# print(f'{loss=}')"
   ]
  },
  {
   "cell_type": "markdown",
   "metadata": {},
   "source": [
    "Plot losses per step"
   ]
  },
  {
   "cell_type": "code",
   "execution_count": 308,
   "metadata": {},
   "outputs": [
    {
     "data": {
      "text/plain": [
       "[<matplotlib.lines.Line2D at 0x17fb3a000>]"
      ]
     },
     "execution_count": 308,
     "metadata": {},
     "output_type": "execute_result"
    },
    {
     "data": {
      "image/png": "[encoded data removed]",
      "text/plain": [
       "<Figure size 640x480 with 1 Axes>"
      ]
     },
     "metadata": {},
     "output_type": "display_data"
    }
   ],
   "source": [
    "plt.plot(steps, losses)"
   ]
  },
  {
   "cell_type": "markdown",
   "metadata": {},
   "source": [
    "Calculate the training and validation losses"
   ]
  },
  {
   "cell_type": "code",
   "execution_count": 309,
   "metadata": {},
   "outputs": [
    {
     "data": {
      "text/plain": [
       "tensor(2.0910, grad_fn=<NllLossBackward0>)"
      ]
     },
     "execution_count": 309,
     "metadata": {},
     "output_type": "execute_result"
    }
   ],
   "source": [
    "# training loss\n",
    "embs = C[X_train]\n",
    "h = torch.tanh(embs.view(-1, 3*dims) @ W1 + b1)\n",
    "logits = h @ W2 + b2\n",
    "loss = F.cross_entropy(logits, Y_train)\n",
    "loss"
   ]
  },
  {
   "cell_type": "code",
   "execution_count": 310,
   "metadata": {},
   "outputs": [
    {
     "data": {
      "text/plain": [
       "tensor(2.1469, grad_fn=<NllLossBackward0>)"
      ]
     },
     "execution_count": 310,
     "metadata": {},
     "output_type": "execute_result"
    }
   ],
   "source": [
    "# validation loss\n",
    "embs = C[X_val]\n",
    "h = torch.tanh(embs.view(-1, 3*dims) @ W1 + b1)\n",
    "logits = h @ W2 + b2\n",
    "loss = F.cross_entropy(logits, Y_val)\n",
    "loss"
   ]
  },
  {
   "cell_type": "markdown",
   "metadata": {},
   "source": [
    "Sampling from the model"
   ]
  },
  {
   "cell_type": "code",
   "execution_count": 311,
   "metadata": {},
   "outputs": [
    {
     "name": "stdout",
     "output_type": "stream",
     "text": [
      "carmahza.\n",
      "jahmarik.\n",
      "mili.\n",
      "taty.\n",
      "skanden.\n",
      "jazhubhaquesric.\n",
      "kaeli.\n",
      "nellana.\n",
      "chaiiv.\n",
      "kaleigh.\n"
     ]
    }
   ],
   "source": [
    "block_size = 3\n",
    "g = torch.Generator().manual_seed(2147483647 + 10)\n",
    "\n",
    "for _ in range(10):\n",
    "    out = []\n",
    "    context = [0] * block_size\n",
    "\n",
    "    while True:\n",
    "        emb = C[torch.tensor([context])]\n",
    "        h = torch.tanh(emb.view(1, -1) @ W1 + b1)\n",
    "        logits = h @ W2 + b2\n",
    "        prob = F.softmax(logits, dim=1)\n",
    "        ix = torch.multinomial(prob, num_samples=1, generator=g).item()\n",
    "        context = context[1:] + [ix]\n",
    "        out.append(ix)\n",
    "        if ix == 0:\n",
    "            break\n",
    "    \n",
    "    print(''.join(itos_lookups[i] for i in out))"
   ]
  },
  {
   "cell_type": "markdown",
   "metadata": {},
   "source": [
    "Note 1: \n",
    "\n",
    "try to change the hyperparameters such a hidden layer size by trying different variations, if that doesnt affect the loss value greatly then try to found out why the loss value isnt going down by analysing the layers"
   ]
  }
 ],
 "metadata": {
  "kernelspec": {
   "display_name": "Python 3.12.4 ('genAI')",
   "language": "python",
   "name": "python3"
  },
  "language_info": {
   "codemirror_mode": {
    "name": "ipython",
    "version": 3
   },
   "file_extension": ".py",
   "mimetype": "text/x-python",
   "name": "python",
   "nbconvert_exporter": "python",
   "pygments_lexer": "ipython3",
   "version": "3.12.4"
  },
  "orig_nbformat": 4,
  "vscode": {
   "interpreter": {
    "hash": "cdc7a2fc295da552623d6189d2d73e88b479f44ab32ab05a73d51a9a8b2f91f6"
   }
  }
 },
 "nbformat": 4,
 "nbformat_minor": 2
}

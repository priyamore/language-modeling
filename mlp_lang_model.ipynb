{
 "cells": [
  {
   "cell_type": "code",
   "execution_count": 1,
   "metadata": {},
   "outputs": [],
   "source": [
    "import math\n",
    "import numpy\n",
    "\n",
    "import torch\n",
    "import torch.nn.functional as F\n",
    "\n",
    "import matplotlib.pyplot as plt\n",
    "%matplotlib inline"
   ]
  },
  {
   "cell_type": "markdown",
   "metadata": {},
   "source": [
    "# Input"
   ]
  },
  {
   "cell_type": "code",
   "execution_count": 2,
   "metadata": {},
   "outputs": [
    {
     "name": "stdout",
     "output_type": "stream",
     "text": [
      "32033\n"
     ]
    },
    {
     "data": {
      "text/plain": [
       "['emma', 'olivia', 'ava', 'isabella', 'sophia', 'charlotte', 'mia', 'amelia']"
      ]
     },
     "execution_count": 2,
     "metadata": {},
     "output_type": "execute_result"
    }
   ],
   "source": [
    "words = open('names.txt', 'r').read().splitlines()\n",
    "print(f'{len(words)}')\n",
    "words[:8]"
   ]
  },
  {
   "cell_type": "markdown",
   "metadata": {},
   "source": [
    "lookup tables"
   ]
  },
  {
   "cell_type": "code",
   "execution_count": 3,
   "metadata": {},
   "outputs": [],
   "source": [
    "chars = list('abcdefghijklmnopqrstuvwxyz')\n",
    "stoi_lookup = {c: i+1 for i, c in enumerate(chars)}\n",
    "stoi_lookup['.'] = 0\n",
    "itos_lookups = {i: char for char, i in stoi_lookup.items()}"
   ]
  },
  {
   "cell_type": "markdown",
   "metadata": {},
   "source": [
    "### Dataset creation"
   ]
  },
  {
   "cell_type": "markdown",
   "metadata": {},
   "source": [
    "-  both BOS and EOS are represented using '.'\n",
    "\n",
    "- context - characters to be considered for the next prediction\n",
    "    - what would be context for the first letter? just '.', the number of '.' will depend on the length of the context\n",
    "\n",
    "\n",
    "- make sure to represent the EOS as well"
   ]
  },
  {
   "cell_type": "code",
   "execution_count": 32,
   "metadata": {},
   "outputs": [],
   "source": [
    "block_size = 3 # context length\n",
    "\n",
    "X, Y = [], []\n",
    "\n",
    "for word in words[:5]:\n",
    "    # print('word: ', word)\n",
    "    context = [0] * block_size\n",
    "    seq = word + '.'    # don't forget to add the . add the end\n",
    "\n",
    "    for char in seq:\n",
    "        X.append(context)\n",
    "        # index of the character to be predicted\n",
    "        y_i = stoi_lookup[char]\n",
    "        Y.append(y_i)\n",
    "\n",
    "        # print(''.join(itos_lookups[c] for c in context), '--->', itos_lookups[y_i])\n",
    "        context = context[1:] + [y_i]\n",
    "\n",
    "X = torch.tensor(X)\n",
    "Y = torch.tensor(Y)"
   ]
  },
  {
   "cell_type": "code",
   "execution_count": 33,
   "metadata": {},
   "outputs": [
    {
     "data": {
      "text/plain": [
       "(torch.Size([32, 3]), torch.int64, torch.Size([32]), torch.int64)"
      ]
     },
     "execution_count": 33,
     "metadata": {},
     "output_type": "execute_result"
    }
   ],
   "source": [
    "X.shape, X.dtype, Y.shape, Y.dtype"
   ]
  },
  {
   "cell_type": "code",
   "execution_count": 34,
   "metadata": {},
   "outputs": [
    {
     "name": "stdout",
     "output_type": "stream",
     "text": [
      "context:  tensor([0, 0, 0])  next char:  tensor(5)\n",
      "context:  tensor([0, 0, 5])  next char:  tensor(13)\n",
      "context:  tensor([ 0,  5, 13])  next char:  tensor(13)\n",
      "context:  tensor([ 5, 13, 13])  next char:  tensor(1)\n",
      "context:  tensor([13, 13,  1])  next char:  tensor(0)\n",
      "context:  tensor([0, 0, 0])  next char:  tensor(15)\n",
      "context:  tensor([ 0,  0, 15])  next char:  tensor(12)\n",
      "context:  tensor([ 0, 15, 12])  next char:  tensor(9)\n",
      "context:  tensor([15, 12,  9])  next char:  tensor(22)\n",
      "context:  tensor([12,  9, 22])  next char:  tensor(9)\n",
      "context:  tensor([ 9, 22,  9])  next char:  tensor(1)\n",
      "context:  tensor([22,  9,  1])  next char:  tensor(0)\n",
      "context:  tensor([0, 0, 0])  next char:  tensor(1)\n",
      "context:  tensor([0, 0, 1])  next char:  tensor(22)\n",
      "context:  tensor([ 0,  1, 22])  next char:  tensor(1)\n",
      "context:  tensor([ 1, 22,  1])  next char:  tensor(0)\n",
      "context:  tensor([0, 0, 0])  next char:  tensor(9)\n",
      "context:  tensor([0, 0, 9])  next char:  tensor(19)\n",
      "context:  tensor([ 0,  9, 19])  next char:  tensor(1)\n",
      "context:  tensor([ 9, 19,  1])  next char:  tensor(2)\n",
      "context:  tensor([19,  1,  2])  next char:  tensor(5)\n",
      "context:  tensor([1, 2, 5])  next char:  tensor(12)\n",
      "context:  tensor([ 2,  5, 12])  next char:  tensor(12)\n",
      "context:  tensor([ 5, 12, 12])  next char:  tensor(1)\n",
      "context:  tensor([12, 12,  1])  next char:  tensor(0)\n",
      "context:  tensor([0, 0, 0])  next char:  tensor(19)\n",
      "context:  tensor([ 0,  0, 19])  next char:  tensor(15)\n",
      "context:  tensor([ 0, 19, 15])  next char:  tensor(16)\n",
      "context:  tensor([19, 15, 16])  next char:  tensor(8)\n",
      "context:  tensor([15, 16,  8])  next char:  tensor(9)\n",
      "context:  tensor([16,  8,  9])  next char:  tensor(1)\n",
      "context:  tensor([8, 9, 1])  next char:  tensor(0)\n"
     ]
    }
   ],
   "source": [
    "for i in range(len(X)):\n",
    "    print(\"context: \", X[i], \" next char: \", Y[i])"
   ]
  },
  {
   "cell_type": "markdown",
   "metadata": {},
   "source": [
    "### Embeddings lookup table\n",
    "\n",
    "in [Bengio et al](https://www.jmlr.org/papers/volume3/bengio03a/bengio03a.pdf), 17k words were embeeded into 30 dims\n",
    "\n",
    "we have to embed 27 chars into small dims, lets start with 2 dims embedding for now"
   ]
  },
  {
   "cell_type": "code",
   "execution_count": 57,
   "metadata": {},
   "outputs": [
    {
     "name": "stdout",
     "output_type": "stream",
     "text": [
      ". :  tensor([-1.0912, -1.5305])\n",
      "a :  tensor([-0.0173, -0.3021])\n",
      "b :  tensor([0.1031, 1.1025])\n",
      "c :  tensor([-1.3304,  0.1416])\n",
      "d :  tensor([-1.2072,  1.6474])\n",
      "e :  tensor([-1.0494, -1.4846])\n",
      "f :  tensor([-0.0662,  0.2333])\n",
      "g :  tensor([-0.6286,  0.0836])\n",
      "h :  tensor([-0.4492,  1.0370])\n",
      "i :  tensor([ 1.0079, -1.0480])\n",
      "j :  tensor([-1.1377,  1.1776])\n",
      "k :  tensor([-1.8299, -0.3040])\n",
      "l :  tensor([0.5433, 0.0497])\n",
      "m :  tensor([ 0.6874, -0.3776])\n",
      "n :  tensor([ 0.9250, -1.2943])\n",
      "o :  tensor([0.1519, 0.4443])\n",
      "p :  tensor([0.4901, 0.5606])\n",
      "q :  tensor([ 0.0579, -0.9379])\n",
      "r :  tensor([0.7701, 0.9760])\n",
      "s :  tensor([-0.3260,  1.3472])\n",
      "t :  tensor([ 0.5321, -1.5233])\n",
      "u :  tensor([1.4296, 1.6443])\n",
      "v :  tensor([-1.7678, -1.4295])\n",
      "w :  tensor([-0.0855,  2.2427])\n",
      "x :  tensor([-1.0920,  1.1340])\n",
      "y :  tensor([-0.2220,  0.1523])\n",
      "z :  tensor([0.6374, 0.0944])\n"
     ]
    }
   ],
   "source": [
    "# 27 chars emebedded into two dims randomly\n",
    "dims = 2\n",
    "C = torch.randn((27, dims))\n",
    "\n",
    "# just to see what the embeddings are \n",
    "for i, embed in enumerate(C):\n",
    "    print(itos_lookups[i], \": \", embed)\n"
   ]
  },
  {
   "cell_type": "markdown",
   "metadata": {},
   "source": [
    "now we have to embed the integers in the input X using the above lookup table C"
   ]
  },
  {
   "cell_type": "code",
   "execution_count": 58,
   "metadata": {},
   "outputs": [
    {
     "data": {
      "text/plain": [
       "torch.Size([32, 3, 2])"
      ]
     },
     "execution_count": 58,
     "metadata": {},
     "output_type": "execute_result"
    }
   ],
   "source": [
    "embs = C[X]\n",
    "embs.shape"
   ]
  },
  {
   "cell_type": "markdown",
   "metadata": {},
   "source": [
    "### Hidden Layer\n",
    "\n",
    "- What would be the input to this layer?\n",
    "\n",
    "    the embedding have the shape [32, 3, 2] which means that we have 32 inputs and for each input so we have three(one for each character) two dims embeddings => 3 * 2 = 6\n",
    "\n",
    "- What would be the number of neurons, we can try it with different values, lets say 100 for now"
   ]
  },
  {
   "cell_type": "code",
   "execution_count": 102,
   "metadata": {},
   "outputs": [],
   "source": [
    "W1 = torch.randn((6, 100))\n",
    "b1 = torch.randn(100)\n",
    "h = torch.tanh(embs.view(32, block_size*dims) @ W1 + b1)"
   ]
  },
  {
   "cell_type": "markdown",
   "metadata": {},
   "source": [
    "### Output Layer"
   ]
  },
  {
   "cell_type": "code",
   "execution_count": 100,
   "metadata": {},
   "outputs": [
    {
     "name": "stdout",
     "output_type": "stream",
     "text": [
      "torch.Size([27])\n"
     ]
    }
   ],
   "source": [
    "W2 = torch.randn(100, 27)\n",
    "b2 = torch.randn(27)\n",
    "\n",
    "logits = h @ W2 + b2\n",
    "counts = logits.exp()\n",
    "prob = counts /counts.sum(1, keepdim=True)\n",
    "print(prob[0].shape) # we have prob for all 27 chars for all our inputs\n",
    "# prob[0].sum()"
   ]
  },
  {
   "cell_type": "code",
   "execution_count": 111,
   "metadata": {},
   "outputs": [
    {
     "data": {
      "text/plain": [
       "tensor(15.6169)"
      ]
     },
     "execution_count": 111,
     "metadata": {},
     "output_type": "execute_result"
    }
   ],
   "source": [
    "ix = torch.arange(32) # indices for all 32 outputs\n",
    "\n",
    "# Y is the index of the character that was predicted\n",
    "loss = -prob[ix, Y].log().mean() # nll\n",
    "loss"
   ]
  },
  {
   "cell_type": "markdown",
   "metadata": {},
   "source": [
    "everything together i.e the network so far"
   ]
  },
  {
   "cell_type": "code",
   "execution_count": 114,
   "metadata": {},
   "outputs": [
    {
     "name": "stdout",
     "output_type": "stream",
     "text": [
      "the dataset:  torch.Size([32, 3]) torch.Size([32])\n"
     ]
    },
    {
     "data": {
      "text/plain": [
       "tensor(17.7697)"
      ]
     },
     "execution_count": 114,
     "metadata": {},
     "output_type": "execute_result"
    }
   ],
   "source": [
    "print(\"the dataset: \", X.shape, Y.shape)\n",
    "\n",
    "g = torch.Generator().manual_seed(2147483647)\n",
    "C = torch.randn((27, 2), generator=g)\n",
    "W1 = torch.randn((6, 100), generator=g)\n",
    "b1 = torch.randn(100, generator=g)\n",
    "W2 = torch.randn((100, 27), generator=g)\n",
    "b2 = torch.randn(27, generator=g)\n",
    "\n",
    "params = [C, W1, b1, W2, b2]\n",
    "\n",
    "# print(sum(p.nelement() for p in params))\n",
    "\n",
    "embs = C[X]\n",
    "h = torch.tanh(embs.view(32, block_size*dims) @ W1 + b1)\n",
    "logits = h @ W2 + b2\n",
    "counts = logits.exp()\n",
    "prob = counts /counts.sum(1, keepdim=True)\n",
    "loss = -prob[torch.arange(32), Y].log().mean()\n",
    "loss"
   ]
  }
 ],
 "metadata": {
  "kernelspec": {
   "display_name": "Python 3.12.4 ('genAI')",
   "language": "python",
   "name": "python3"
  },
  "language_info": {
   "codemirror_mode": {
    "name": "ipython",
    "version": 3
   },
   "file_extension": ".py",
   "mimetype": "text/x-python",
   "name": "python",
   "nbconvert_exporter": "python",
   "pygments_lexer": "ipython3",
   "version": "3.12.4"
  },
  "orig_nbformat": 4,
  "vscode": {
   "interpreter": {
    "hash": "cdc7a2fc295da552623d6189d2d73e88b479f44ab32ab05a73d51a9a8b2f91f6"
   }
  }
 },
 "nbformat": 4,
 "nbformat_minor": 2
}

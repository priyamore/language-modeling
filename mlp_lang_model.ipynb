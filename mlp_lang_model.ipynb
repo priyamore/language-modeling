{
 "cells": [
  {
   "cell_type": "code",
   "execution_count": 1,
   "metadata": {},
   "outputs": [],
   "source": [
    "import math\n",
    "import random\n",
    "import numpy\n",
    "\n",
    "import torch\n",
    "import torch.nn.functional as F\n",
    "\n",
    "import matplotlib.pyplot as plt\n",
    "%matplotlib inline"
   ]
  },
  {
   "cell_type": "markdown",
   "metadata": {},
   "source": [
    "# Input"
   ]
  },
  {
   "cell_type": "code",
   "execution_count": 2,
   "metadata": {},
   "outputs": [
    {
     "name": "stdout",
     "output_type": "stream",
     "text": [
      "32033\n"
     ]
    },
    {
     "data": {
      "text/plain": [
       "['emma', 'olivia', 'ava', 'isabella', 'sophia', 'charlotte', 'mia', 'amelia']"
      ]
     },
     "execution_count": 2,
     "metadata": {},
     "output_type": "execute_result"
    }
   ],
   "source": [
    "words = open('names.txt', 'r').read().splitlines()\n",
    "print(f'{len(words)}')\n",
    "words[:8]"
   ]
  },
  {
   "cell_type": "code",
   "execution_count": 3,
   "metadata": {},
   "outputs": [
    {
     "data": {
      "text/plain": [
       "32033"
      ]
     },
     "execution_count": 3,
     "metadata": {},
     "output_type": "execute_result"
    }
   ],
   "source": [
    "len(words)"
   ]
  },
  {
   "cell_type": "markdown",
   "metadata": {},
   "source": [
    "lookup tables"
   ]
  },
  {
   "cell_type": "code",
   "execution_count": 4,
   "metadata": {},
   "outputs": [
    {
     "name": "stdout",
     "output_type": "stream",
     "text": [
      "{1: 'a', 2: 'b', 3: 'c', 4: 'd', 5: 'e', 6: 'f', 7: 'g', 8: 'h', 9: 'i', 10: 'j', 11: 'k', 12: 'l', 13: 'm', 14: 'n', 15: 'o', 16: 'p', 17: 'q', 18: 'r', 19: 's', 20: 't', 21: 'u', 22: 'v', 23: 'w', 24: 'x', 25: 'y', 26: 'z', 0: '.'}\n",
      "27\n"
     ]
    }
   ],
   "source": [
    "# build the vocab of chars and lookup tables\n",
    "# Q: what will be the vocab for word level language model?\n",
    "\n",
    "chars = list('abcdefghijklmnopqrstuvwxyz')\n",
    "stoi_lookup = {c: i+1 for i, c in enumerate(chars)}\n",
    "stoi_lookup['.'] = 0\n",
    "itos_lookups = {i: char for char, i in stoi_lookup.items()}\n",
    "vocab_size = len(itos_lookups)\n",
    "print(itos_lookups)\n",
    "print(vocab_size)"
   ]
  },
  {
   "cell_type": "markdown",
   "metadata": {},
   "source": [
    "### Dataset creation"
   ]
  },
  {
   "cell_type": "markdown",
   "metadata": {},
   "source": [
    "Embeddings lookup table\n",
    "\n",
    "in [Bengio et al](https://www.jmlr.org/papers/volume3/bengio03a/bengio03a.pdf), 17k words were embeeded into 30 dims\n",
    "\n",
    "we have to embed 27 chars into small dims, lets start with 2 dims embedding for now"
   ]
  },
  {
   "cell_type": "markdown",
   "metadata": {},
   "source": [
    "Hidden & Output Layer\n",
    "\n",
    "- What would be the input to this layer?\n",
    "\n",
    "    the embedding have the shape [32, 3, 2] which means that we have 32 inputs and for each input we have three(one for each character) two dims embeddings => 3 * 2 = 6\n",
    "\n",
    "- What would be the number of neurons, we can try it with different values, lets say 100 for now"
   ]
  },
  {
   "cell_type": "markdown",
   "metadata": {},
   "source": [
    "Build the Dataset\n",
    "\n",
    "-  both BOS and EOS are represented using '.'\n",
    "\n",
    "- context - characters to be considered for the next prediction\n",
    "    - what would be context for the first letter? just '.', the number of '.' will depend on the length of the context\n",
    "\n",
    "\n",
    "- make sure to represent the EOS as well"
   ]
  },
  {
   "cell_type": "code",
   "execution_count": 6,
   "metadata": {},
   "outputs": [
    {
     "name": "stdout",
     "output_type": "stream",
     "text": [
      "shapes:  torch.Size([182580, 3]) torch.Size([182580])\n",
      "shapes:  torch.Size([22767, 3]) torch.Size([22767])\n",
      "shapes:  torch.Size([22799, 3]) torch.Size([22799])\n"
     ]
    }
   ],
   "source": [
    "block_size = 3 # context length\n",
    "\n",
    "def build_dataset(words):\n",
    "    # input and output\n",
    "    X, Y = [], []\n",
    "    for word in words:\n",
    "        # print('word: ', word)\n",
    "        context = [0] * block_size\n",
    "        seq = word + '.'    # don't forget to add the . add the end\n",
    "\n",
    "        for char in seq:\n",
    "            X.append(context)\n",
    "            # index of the character to be predicted\n",
    "            y_idx = stoi_lookup[char]\n",
    "            Y.append(y_idx)\n",
    "            # print(''.join(itos_lookups[c] for c in context), '--->', itos_lookups[y_i])\n",
    "            # update the context for the next sequence\n",
    "            context = context[1:] + [y_idx]\n",
    "\n",
    "    X = torch.tensor(X)\n",
    "    Y = torch.tensor(Y)\n",
    "    print(\"shapes: \", X.shape, Y.shape)\n",
    "    return X, Y\n",
    "\n",
    "\n",
    "random.seed(42)\n",
    "random.shuffle(words)\n",
    "\n",
    "train_window_end = int(0.8*len(words))\n",
    "val_window_end = int(0.9*len(words))\n",
    "\n",
    "X_train, Y_train = build_dataset(words[:train_window_end])\n",
    "X_val, Y_val = build_dataset(words[train_window_end:val_window_end])\n",
    "X_test, Y_test = build_dataset(words[val_window_end:])"
   ]
  },
  {
   "cell_type": "markdown",
   "metadata": {},
   "source": [
    "training(80%), val(10%), test(10%) splits \n",
    " - training set is used for optimizing the params of the model\n",
    " - validation set is used for training the hyperparameters(hidden layer size, embedding size etc)\n",
    " - evaluating the performance of the model"
   ]
  },
  {
   "cell_type": "markdown",
   "metadata": {},
   "source": [
    "### Build the Network"
   ]
  },
  {
   "cell_type": "code",
   "execution_count": 7,
   "metadata": {},
   "outputs": [
    {
     "name": "stdout",
     "output_type": "stream",
     "text": [
      "11897\n"
     ]
    }
   ],
   "source": [
    "dim_embd = 10 # dimensionality of the character embedding vectors\n",
    "n_hidden = 200 # number of neurons in the hidden layer of the MLP\n",
    "\n",
    "g = torch.Generator().manual_seed(2147483647)\n",
    "C = torch.randn((vocab_size, dim_embd),             generator=g)\n",
    "\n",
    "W1 = torch.randn((dim_embd* block_size, n_hidden),  generator=g)\n",
    "b1 = torch.randn(n_hidden,                          generator=g)\n",
    "# multiplying by a small value so that the initial values for W2 are not high\n",
    "# without this the loss would be very high for the first few passes \n",
    "# and those passes would be wasted in getting the loss down to a smaller value\n",
    "W2 = torch.randn((n_hidden, vocab_size),            generator=g) * 0.01 \n",
    "b2 = torch.randn(vocab_size,                        generator=g) * 0\n",
    "\n",
    "params = [C, W1, b1, W2, b2]\n",
    "print(sum(p.nelement() for p in params))\n",
    "\n",
    "# set the p.grad requires to true first so that we are able to get the grad for the params\n",
    "for p in params:\n",
    "    p.requires_grad = True"
   ]
  },
  {
   "cell_type": "markdown",
   "metadata": {},
   "source": [
    "### Train the Network"
   ]
  },
  {
   "cell_type": "code",
   "execution_count": 8,
   "metadata": {},
   "outputs": [
    {
     "name": "stdout",
     "output_type": "stream",
     "text": [
      "      0/ 200000:3.3148\n",
      "  10000/ 200000:2.6505\n",
      "  20000/ 200000:2.4705\n",
      "  30000/ 200000:2.0266\n",
      "  40000/ 200000:2.1797\n",
      "  50000/ 200000:2.4072\n",
      "  60000/ 200000:2.2316\n",
      "  70000/ 200000:2.0701\n",
      "  80000/ 200000:2.0010\n",
      "  90000/ 200000:2.0439\n",
      " 100000/ 200000:2.4564\n",
      " 110000/ 200000:2.2124\n",
      " 120000/ 200000:2.1843\n",
      " 130000/ 200000:2.2414\n",
      " 140000/ 200000:2.1447\n",
      " 150000/ 200000:2.2837\n",
      " 160000/ 200000:2.0286\n",
      " 170000/ 200000:2.0146\n",
      " 180000/ 200000:2.2178\n",
      " 190000/ 200000:2.0372\n"
     ]
    }
   ],
   "source": [
    "max_steps = 200000\n",
    "batch_size = 32\n",
    "losses_at_idx = []\n",
    "\n",
    "for step in range(max_steps):\n",
    "    # minibatch construction\n",
    "    ix = torch.randint(0, X_train.shape[0], (batch_size, ), generator=g)\n",
    "    Xb, Yb = X_train[ix], Y_train[ix]\n",
    "\n",
    "    # forward pass\n",
    "    emb = C[Xb] # embed the chars into vectors\n",
    "\n",
    "    # TBD: check on the purpose\n",
    "    emb_cat = emb.view(emb.shape[0], -1) # vectors concatenation\n",
    "    h_preact = emb_cat @ W1 + b1 # hidden layer pre-activation\n",
    "    h = torch.tanh(h_preact)\n",
    "    logits = h @ W2 + b2\n",
    "    # only select the indices in the current mini batch\n",
    "    loss = F.cross_entropy(logits, Yb)\n",
    "    # print(f'{loss=}')\n",
    "    \n",
    "    # backward pass\n",
    "    # set the gradients to 0 - IMP\n",
    "    for p in params:\n",
    "        p.grad = None\n",
    "    \n",
    "    # calculate the gradients of the loss w.r.t params\n",
    "    loss.backward()\n",
    "\n",
    "    # if step < 100000:\n",
    "    #     l_rate = 0.1\n",
    "    # elif 100000 <= step < 200000:\n",
    "    #     l_rate = 0.01\n",
    "    # else:\n",
    "    #     l_rate = 0.001\n",
    "    \n",
    "    l_rate = 0.1 if step < 100000 else 0.01 # learning rate \n",
    "    \n",
    "    # update the params\n",
    "    for p in params:\n",
    "        p.data += -l_rate * p.grad\n",
    "\n",
    "    # track stats\n",
    "    if step % 10000 == 0: # print periodically\n",
    "        print(f'{step:7d}/{max_steps:7d}:{loss.item():.4f}')\n",
    "    \n",
    "    losses_at_idx.append(loss.log10().item())\n",
    "\n",
    "# print(f'{loss=}')"
   ]
  },
  {
   "cell_type": "markdown",
   "metadata": {},
   "source": [
    "Plot losses per step"
   ]
  },
  {
   "cell_type": "code",
   "execution_count": 9,
   "metadata": {},
   "outputs": [
    {
     "data": {
      "text/plain": [
       "[<matplotlib.lines.Line2D at 0x168ba2d50>]"
      ]
     },
     "execution_count": 9,
     "metadata": {},
     "output_type": "execute_result"
    },
    {
     "data": {
      "image/png": "[encoded data removed]",
      "text/plain": [
       "<Figure size 640x480 with 1 Axes>"
      ]
     },
     "metadata": {},
     "output_type": "display_data"
    }
   ],
   "source": [
    "plt.plot(losses_at_idx)"
   ]
  },
  {
   "cell_type": "markdown",
   "metadata": {},
   "source": [
    "Calculate the training and validation losses"
   ]
  },
  {
   "cell_type": "code",
   "execution_count": 10,
   "metadata": {},
   "outputs": [
    {
     "name": "stdout",
     "output_type": "stream",
     "text": [
      "train 2.069324493408203\n",
      "val 2.133208751678467\n"
     ]
    }
   ],
   "source": [
    "# disable gradient tracking with decorator - \n",
    "# this decorator sets the tensors in the function that follows to requires_grad = False\n",
    "\n",
    "@torch.no_grad() \n",
    "def split_losses(split_name):\n",
    "    x, y = {\n",
    "        'train': (X_train, Y_train),\n",
    "        'val': (X_val, Y_val),\n",
    "        'test': (X_test, Y_test)\n",
    "    }[split_name]\n",
    "\n",
    "    emb = C[x] # (N, block_size, dim_emb)\n",
    "    emb_cat = emb.view(emb.shape[0], -1) # concat into (N, block_size * dim_emb)\n",
    "    h = torch.tanh(emb_cat @ W1 + b1) # (N, n_hidden)\n",
    "    logits = h @ W2 + b2\n",
    "    loss = F.cross_entropy(logits, y)\n",
    "    print(split_name, loss.item())\n",
    "\n",
    "split_losses('train')\n",
    "split_losses('val')"
   ]
  },
  {
   "cell_type": "markdown",
   "metadata": {},
   "source": [
    "Sampling from the model"
   ]
  },
  {
   "cell_type": "code",
   "execution_count": 11,
   "metadata": {},
   "outputs": [
    {
     "name": "stdout",
     "output_type": "stream",
     "text": [
      "carmah.\n",
      "amillivia.\n",
      "jmri.\n",
      "ree.\n",
      "cassanden.\n",
      "jazonte.\n",
      "delynn.\n",
      "jareei.\n",
      "ner.\n",
      "kia.\n",
      "chaiivia.\n",
      "leigh.\n",
      "ham.\n",
      "join.\n",
      "quint.\n",
      "sulenes.\n",
      "jamilio.\n",
      "jero.\n",
      "dearynix.\n",
      "kaeshiveri.\n"
     ]
    }
   ],
   "source": [
    "g = torch.Generator().manual_seed(2147483647 + 10)\n",
    "\n",
    "for _ in range(20):\n",
    "    out = []\n",
    "    context = [0] * block_size\n",
    "\n",
    "    while True:\n",
    "        # forward pass \n",
    "        emb = C[torch.tensor([context])]\n",
    "        h = torch.tanh(emb.view(1, -1) @ W1 + b1)\n",
    "        logits = h @ W2 + b2\n",
    "        prob = F.softmax(logits, dim=1)\n",
    "        ix = torch.multinomial(prob, num_samples=1, generator=g).item()\n",
    "        context = context[1:] + [ix]\n",
    "        out.append(ix)\n",
    "        if ix == 0:\n",
    "            break\n",
    "    \n",
    "    print(''.join(itos_lookups[i] for i in out))"
   ]
  },
  {
   "cell_type": "markdown",
   "metadata": {},
   "source": [
    "Note 1: \n",
    "\n",
    "try to change the hyperparameters such a hidden layer size by trying different variations, if that doesnt affect the loss value greatly then try to found out why the loss value isnt going down by analysing the layers"
   ]
  }
 ],
 "metadata": {
  "kernelspec": {
   "display_name": "Python 3.12.4 ('genAI')",
   "language": "python",
   "name": "python3"
  },
  "language_info": {
   "codemirror_mode": {
    "name": "ipython",
    "version": 3
   },
   "file_extension": ".py",
   "mimetype": "text/x-python",
   "name": "python",
   "nbconvert_exporter": "python",
   "pygments_lexer": "ipython3",
   "version": "3.12.4"
  },
  "orig_nbformat": 4,
  "vscode": {
   "interpreter": {
    "hash": "cdc7a2fc295da552623d6189d2d73e88b479f44ab32ab05a73d51a9a8b2f91f6"
   }
  }
 },
 "nbformat": 4,
 "nbformat_minor": 2
}

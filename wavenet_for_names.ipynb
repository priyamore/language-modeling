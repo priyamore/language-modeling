{
 "cells": [
  {
   "cell_type": "code",
   "execution_count": 1,
   "metadata": {},
   "outputs": [],
   "source": [
    "import random\n",
    "import torch\n",
    "import torch.nn.functional as F\n",
    "\n",
    "import matplotlib.pyplot as plt\n",
    "%matplotlib inline"
   ]
  },
  {
   "cell_type": "markdown",
   "metadata": {},
   "source": [
    "# Input"
   ]
  },
  {
   "cell_type": "code",
   "execution_count": 2,
   "metadata": {},
   "outputs": [
    {
     "name": "stdout",
     "output_type": "stream",
     "text": [
      "32033\n",
      "15\n"
     ]
    },
    {
     "data": {
      "text/plain": [
       "['emma', 'olivia', 'ava', 'isabella', 'sophia', 'charlotte', 'mia', 'amelia']"
      ]
     },
     "execution_count": 2,
     "metadata": {},
     "output_type": "execute_result"
    }
   ],
   "source": [
    "words = open('names.txt', 'r').read().splitlines()\n",
    "print(f'{len(words)}')\n",
    "print(max(len(w) for w in words))\n",
    "words[:8]"
   ]
  },
  {
   "cell_type": "markdown",
   "metadata": {},
   "source": [
    "### build the vocab of chars and lookup tables"
   ]
  },
  {
   "cell_type": "code",
   "execution_count": 21,
   "metadata": {},
   "outputs": [
    {
     "name": "stdout",
     "output_type": "stream",
     "text": [
      "{1: 'a', 2: 'b', 3: 'c', 4: 'd', 5: 'e', 6: 'f', 7: 'g', 8: 'h', 9: 'i', 10: 'j', 11: 'k', 12: 'l', 13: 'm', 14: 'n', 15: 'o', 16: 'p', 17: 'q', 18: 'r', 19: 's', 20: 't', 21: 'u', 22: 'v', 23: 'w', 24: 'x', 25: 'y', 26: 'z', 0: '.'}\n",
      "27\n"
     ]
    }
   ],
   "source": [
    "# build the vocab of chars and lookup tables\n",
    "chars = list('abcdefghijklmnopqrstuvwxyz')\n",
    "stoi_lookup = {c: i+1 for i, c in enumerate(chars)}\n",
    "stoi_lookup['.'] = 0\n",
    "itos_lookups = {i: char for char, i in stoi_lookup.items()}\n",
    "vocab_size = len(itos_lookups)\n",
    "print(itos_lookups)\n",
    "print(vocab_size)"
   ]
  },
  {
   "cell_type": "code",
   "execution_count": 22,
   "metadata": {},
   "outputs": [],
   "source": [
    "# shuffle the words\n",
    "random.seed(42)\n",
    "random.shuffle(words)"
   ]
  },
  {
   "cell_type": "code",
   "execution_count": 208,
   "metadata": {},
   "outputs": [
    {
     "name": "stdout",
     "output_type": "stream",
     "text": [
      "shapes:  torch.Size([182580, 8]) torch.Size([182580])\n",
      "shapes:  torch.Size([22767, 8]) torch.Size([22767])\n",
      "shapes:  torch.Size([22799, 8]) torch.Size([22799])\n"
     ]
    }
   ],
   "source": [
    "block_size = 8 # context length\n",
    "\n",
    "def build_dataset(words):\n",
    "    X, Y = [], [] # inp and op\n",
    "    for word in words:\n",
    "        # context initialization: for the first letter it will just be '.' 8 times because the context size is 8 rn!\n",
    "        context = [0] * block_size \n",
    "        # create input i.e context from each word\n",
    "        for char in word + '.':\n",
    "            X.append(context)\n",
    "            y_ix = stoi_lookup[char]\n",
    "            Y.append(y_ix)\n",
    "            context = context[1:] + [y_ix]\n",
    "\n",
    "    X = torch.tensor(X) # or torch.tensor\n",
    "    Y = torch.tensor(Y)\n",
    "    print(\"shapes: \", X.shape, Y.shape)\n",
    "    return X, Y\n",
    "\n",
    "tr_win_end = int(0.8 * len(words))\n",
    "test_win_end = int(0.9 * len(words))\n",
    "\n",
    "X_tr, Y_tr = build_dataset(words[:tr_win_end])  # use to optimise the model params\n",
    "X_val, Y_val = build_dataset(words[tr_win_end: test_win_end]) # use for hyperparameters tuning(hidden layer size, embedding size etc)\n",
    "X_test, Y_test = build_dataset(words[test_win_end:]) # use for evaluating the performance of the model"
   ]
  },
  {
   "cell_type": "code",
   "execution_count": 209,
   "metadata": {},
   "outputs": [
    {
     "name": "stdout",
     "output_type": "stream",
     "text": [
      "........ -----> e\n",
      ".......e -----> b\n",
      "......eb -----> r\n",
      ".....ebr -----> i\n",
      "....ebri -----> m\n",
      "...ebrim -----> a\n",
      "..ebrima -----> .\n",
      "........ -----> h\n",
      ".......h -----> i\n",
      "......hi -----> l\n",
      ".....hil -----> t\n",
      "....hilt -----> o\n",
      "...hilto -----> n\n",
      "..hilton -----> .\n",
      "........ -----> j\n"
     ]
    }
   ],
   "source": [
    "for x, y in zip(X_tr[:15], Y_tr[:15]):\n",
    "    print(\"\".join(itos_lookups[i.item()] for i in x), '----->', itos_lookups[y.item()])"
   ]
  },
  {
   "cell_type": "markdown",
   "metadata": {},
   "source": [
    "\n",
    "![Batch Normalization](batch_norm.png)"
   ]
  },
  {
   "cell_type": "code",
   "execution_count": 219,
   "metadata": {},
   "outputs": [],
   "source": [
    "class Linear:\n",
    "    def __init__(self, fan_in, fan_out, bias=True):\n",
    "        self.weight = torch.randn((fan_in, fan_out)) / fan_in ** 0.5 # fan_in ** 0.5 is kaiming init for good initalization\n",
    "        self.bias = torch.zeros(fan_out) if bias else None\n",
    "\n",
    "    def __call__(self, x):\n",
    "        # w * x + b\n",
    "        self.out = x @ self.weight\n",
    "        if self.bias is not None:\n",
    "            self.out += self.bias\n",
    "        return self.out\n",
    "\n",
    "    def params(self):\n",
    "        return [self.weight] + ([] if self.bias is None else [self.bias])\n",
    "\n",
    "class BatchNorm1d:\n",
    "    def __init__(self, dim, eps=1e-5, momentum = 0.1):\n",
    "        self.eps = eps\n",
    "        self.momentum = momentum # for updating the running buffers(mean and var)\n",
    "        self.training = True # track buffers or not\n",
    "\n",
    "        # batch norm params - scale and shift\n",
    "        self.gamma = torch.ones(dim) # scale by default 1 \n",
    "        self.beta = torch.zeros(dim) # shift by default 0\n",
    "\n",
    "        # track running mean and var with buffers\n",
    "        self.running_mean = torch.zeros(dim) # for Gaussian it should be 0\n",
    "        self.running_var = torch.ones(dim) # for Gaussian it should be 1\n",
    "\n",
    "    def __call__(self, x):\n",
    "        # forward pass\n",
    "        \n",
    "        # ------------ normalize the mini batch with mean and var ------------\n",
    "        if self.training:\n",
    "            if x.ndim == 2:\n",
    "                dim = 0\n",
    "            elif x.ndim == 3: # for 3 dimensions, take mean and var over (0, 1) dim\n",
    "                dim = (0, 1)\n",
    "            # calculate mean and var for every mini batch while training\n",
    "            xmean = x.mean(dim, keepdim=True)\n",
    "            xvar = x.var(dim, keepdim=True)\n",
    "        # if we are not training then the mean and variance will be inferred from the running buffers\n",
    "        else:\n",
    "            # used for normalization during evaluation(validation and testing)\n",
    "            xmean = self.running_mean\n",
    "            xvar = self.running_var\n",
    "\n",
    "        xhat = (x - xmean) /torch.sqrt(xvar + self.eps)\n",
    "        self.out = self.gamma * xhat + self.beta # scale and shift\n",
    "        #-----------------------------------------------------------------------\n",
    "\n",
    "        # ----------------track buffers-------------\n",
    "        if self.training:\n",
    "            with torch.no_grad():\n",
    "                self.running_mean = (1 - self.momentum) * self.running_mean + self.momentum * xmean\n",
    "                self.running_var = (1 - self.momentum) * self.running_var + self.momentum * xvar\n",
    "        # ------------------------------------------\n",
    "        \n",
    "        return self.out\n",
    "    \n",
    "    def params(self):\n",
    "        return [self.gamma, self.beta]\n",
    "\n",
    "class Tanh:\n",
    "    def __call__(self, x):\n",
    "        self.out = torch.tanh(x)\n",
    "        return self.out\n",
    "    \n",
    "    def params(self):\n",
    "        return []"
   ]
  },
  {
   "cell_type": "markdown",
   "metadata": {},
   "source": [
    "modularizing the embeddings and concatenation/flattening of the vectors"
   ]
  },
  {
   "cell_type": "code",
   "execution_count": 220,
   "metadata": {},
   "outputs": [],
   "source": [
    "# embeddings - previously emb = C[X]\n",
    "class Embedding:\n",
    "    def __init__(self, num_embeddings, embedding_dim):\n",
    "        self.weight = torch.randn((num_embeddings, embedding_dim))\n",
    "\n",
    "    def __call__(self, IX):\n",
    "        self.out = self.weight[IX]\n",
    "        return self.out\n",
    "    \n",
    "    def params(self):\n",
    "        return [self.weight]\n",
    "\n",
    "# concatenation/flattening - previously emb_cat = emb.view(emb.shape[0], -1)\n",
    "class FlattenConsecutive:\n",
    "    def __init__(self, n):\n",
    "        # number of consecutive elements that we want to concatenate\n",
    "        self.n = n # 2 for wavenet\n",
    "        \n",
    "    def __call__(self, x):\n",
    "        B, T, C = x.shape # 4, 8, 10 for the example \n",
    "        x = x.view(B, T//self.n, C * self.n)\n",
    "        if x.shape[1] == 1: # if this dimension is 1, e.g (4, 1, 200), we might as well return (4, 200)\n",
    "            x = x.squeeze(1) # squeeze out this dimension\n",
    "\n",
    "        self.out = x\n",
    "        return self.out\n",
    "\n",
    "    def params(self):\n",
    "        return []"
   ]
  },
  {
   "cell_type": "markdown",
   "metadata": {},
   "source": [
    "containerizing(akin to PyTorch's container) the layers"
   ]
  },
  {
   "cell_type": "code",
   "execution_count": 221,
   "metadata": {},
   "outputs": [],
   "source": [
    "class Sequential:\n",
    "    def __init__(self, layers):\n",
    "        self.layers = layers\n",
    "    \n",
    "    def __call__(self, x):\n",
    "        # call the layers Sequentially\n",
    "        for layer in self.layers:\n",
    "            x = layer(x)\n",
    "        self.out = x\n",
    "        # return the output of the layers at the end\n",
    "        return self.out\n",
    "    \n",
    "    def params(self):\n",
    "        # params of all the layers\n",
    "        return [p for layer in self.layers for p in layer.params()]"
   ]
  },
  {
   "cell_type": "code",
   "execution_count": 222,
   "metadata": {},
   "outputs": [
    {
     "data": {
      "text/plain": [
       "<torch._C.Generator at 0x10d6c62b0>"
      ]
     },
     "execution_count": 222,
     "metadata": {},
     "output_type": "execute_result"
    }
   ],
   "source": [
    "torch.manual_seed(42)"
   ]
  },
  {
   "cell_type": "markdown",
   "metadata": {},
   "source": [
    "how to change the network for WaveNet?\n",
    "\n",
    "Lets take a batch of 4 examples, the first linear layer looks like\n",
    "\n",
    "(torch.randn(4, 80) @ torch.randn(80, 200) + torch.randn(200)).shape i.e (x @ W + b)\n",
    "\n",
    "we have 8 chars in a context:\n",
    "say 1, 2, 3, 4, 5, 6, 7, 8\n",
    "\n",
    "while implementing wavenet, we will be taking two at a time like this (1, 2), (3, 4), (5, 6), (7, 8)\n",
    "\n",
    "these 4 groups need to be processed in parellel, so we need to change the layer cofigs\n",
    "\n",
    "how will the x(emb_cat) change?\n",
    "- it would take (4, 20) instead of (dim_embd * block_size) = (80)\n",
    "\n",
    "how will the W change?\n",
    "\n",
    "- it would be (20, n_hidden), 4 groups of two characters at a time, instead of (80, n_hidden)\n",
    "we can do this with .view(),\n",
    "\n",
    "**change the flatten layer implementation and call accordingly!**\n",
    "\n",
    "How will the BatchNorm change if at all? \n",
    "\n",
    "We calculated mean and var over dim 0 when the shape was (a, b) but now the shape is (a, b, c) so we will have take these stats over dim 0 and 1"
   ]
  },
  {
   "cell_type": "code",
   "execution_count": 231,
   "metadata": {},
   "outputs": [
    {
     "name": "stdout",
     "output_type": "stream",
     "text": [
      "76579\n"
     ]
    }
   ],
   "source": [
    "dim_embd = 24   # dimensionality of the character embedding vectors i.e vector size\n",
    "n_hidden = 128 # changed to 68 to keep the number of params to model approximately to same as our MLP\n",
    "\n",
    "model = Sequential([\n",
    "    Embedding(vocab_size, dim_embd),\n",
    "    # FlattenConsecutive - two characters at a time, dim_embd * 2 = 20\n",
    "    FlattenConsecutive(2), Linear(dim_embd * 2, n_hidden, bias=False), BatchNorm1d(n_hidden), Tanh(),\n",
    "    FlattenConsecutive(2), Linear(n_hidden * 2, n_hidden, bias=False), BatchNorm1d(n_hidden), Tanh(),\n",
    "    FlattenConsecutive(2), Linear(n_hidden * 2, n_hidden, bias=False), BatchNorm1d(n_hidden), Tanh(),\n",
    "    Linear(n_hidden, vocab_size),\n",
    "])\n",
    "\n",
    "# initialization\n",
    "with torch.no_grad():\n",
    "    # for the output layer scale down the weights so we arent confidently wrong at init\n",
    "    model.layers[-1].weight *= 0.1\n",
    "\n",
    "params = model.params()\n",
    "\n",
    "print(sum(p.nelement() for p in params))\n",
    "\n",
    "for p in params:\n",
    "    p.requires_grad = True"
   ]
  },
  {
   "cell_type": "code",
   "execution_count": 232,
   "metadata": {},
   "outputs": [
    {
     "name": "stdout",
     "output_type": "stream",
     "text": [
      "      0/ 200000:3.2998\n",
      "  10000/ 200000:1.7676\n",
      "  20000/ 200000:2.3884\n",
      "  30000/ 200000:1.9698\n",
      "  40000/ 200000:2.6673\n",
      "  50000/ 200000:1.8961\n",
      "  60000/ 200000:1.7927\n",
      "  70000/ 200000:2.1857\n",
      "  80000/ 200000:1.7376\n",
      "  90000/ 200000:2.1071\n",
      " 100000/ 200000:2.0856\n",
      " 110000/ 200000:1.8888\n",
      " 120000/ 200000:1.7540\n",
      " 130000/ 200000:2.0079\n",
      " 140000/ 200000:2.0151\n",
      " 150000/ 200000:2.2124\n",
      " 160000/ 200000:1.9667\n",
      " 170000/ 200000:1.8774\n",
      " 180000/ 200000:1.9853\n",
      " 190000/ 200000:1.2605\n"
     ]
    }
   ],
   "source": [
    "max_steps = 200000\n",
    "batch_size = 32\n",
    "losses_at_idx = []\n",
    "\n",
    "for step in range(max_steps):\n",
    "    # minintach construction\n",
    "    ix = torch.randint(0, X_tr.shape[0], (batch_size, ))\n",
    "    Xb, Yb = X_tr[ix], Y_tr[ix]\n",
    "\n",
    "    # forward pass\n",
    "    # old way without container\n",
    "    # for layer in layers:\n",
    "    #     x = layer(x)\n",
    "    \n",
    "    logits = model(Xb)\n",
    "    loss = F.cross_entropy(logits, Yb)\n",
    "\n",
    "    # backward pass\n",
    "    # set the gradients to 0 for each backward pass, dont accumulate them from the prev bacth\n",
    "    for p in params:\n",
    "        p.grad = None\n",
    "    loss.backward()\n",
    "    \n",
    "    l_rate = 0.1 if step < 150000 else 0.01 # learning rate with decay\n",
    "    \n",
    "    # update params according to the grad and learning rate\n",
    "    for p in params:\n",
    "        p.data += -l_rate * p.grad\n",
    "\n",
    "    # track stats\n",
    "    if step % 10000 == 0: # print periodically\n",
    "        print(f'{step:7d}/{max_steps:7d}:{loss.item():.4f}')\n",
    "    \n",
    "    losses_at_idx.append(loss.log10().item())\n",
    "    \n",
    "    # if step >= 1000:\n",
    "    #     break\n",
    "\n",
    "# print(f'{loss=}')"
   ]
  },
  {
   "cell_type": "markdown",
   "metadata": {},
   "source": [
    "average loss distribution for every 1000 steps"
   ]
  },
  {
   "cell_type": "code",
   "execution_count": 233,
   "metadata": {},
   "outputs": [
    {
     "data": {
      "image/png": "[encoded data removed]",
      "text/plain": [
       "<Figure size 640x480 with 1 Axes>"
      ]
     },
     "metadata": {},
     "output_type": "display_data"
    }
   ],
   "source": [
    "plt.plot(torch.tensor(losses_at_idx).view(-1, 1000).mean(1));"
   ]
  },
  {
   "cell_type": "markdown",
   "metadata": {},
   "source": [
    "Evaluate the model"
   ]
  },
  {
   "cell_type": "code",
   "execution_count": 234,
   "metadata": {},
   "outputs": [],
   "source": [
    "for layer in model.layers:\n",
    "    layer.training = False"
   ]
  },
  {
   "cell_type": "code",
   "execution_count": 235,
   "metadata": {},
   "outputs": [
    {
     "name": "stdout",
     "output_type": "stream",
     "text": [
      "train 1.7660999298095703\n",
      "val 1.988011360168457\n"
     ]
    }
   ],
   "source": [
    "@torch.no_grad()\n",
    "def split_loss(split_name):\n",
    "    # forward pass\n",
    "    x, y = {\n",
    "        'train': (X_tr, Y_tr),\n",
    "        'val': (X_val, Y_val),\n",
    "        'test': (X_test, Y_test)\n",
    "    }[split_name]\n",
    "\n",
    "    logits = model(x)\n",
    "    loss = F.cross_entropy(logits, y)\n",
    "    \n",
    "    print(split_name, loss.item())\n",
    "\n",
    "split_loss('train')\n",
    "split_loss('val')"
   ]
  },
  {
   "cell_type": "markdown",
   "metadata": {},
   "source": [
    "with context size = 3:\n",
    "- train 2.056\n",
    "- val 2.105\n",
    "\n",
    "with context size = 8:\n",
    "- train 1.917\n",
    "- val 2.026\n",
    "\n",
    "with context size = 8, vector size = 10,  hidden layer with 64 neurons\n",
    "- train 1.910\n",
    "- val 2.018\n",
    "\n",
    "with context size = 8, vector size = 24,  hidden layer with 128 neurons\n",
    "- train 1.766\n",
    "- val 1.988"
   ]
  },
  {
   "cell_type": "markdown",
   "metadata": {},
   "source": [
    "the train and val losses are similar, so the model is not overfitting"
   ]
  },
  {
   "cell_type": "markdown",
   "metadata": {},
   "source": [
    "sampling from the model"
   ]
  },
  {
   "cell_type": "code",
   "execution_count": 249,
   "metadata": {},
   "outputs": [
    {
     "name": "stdout",
     "output_type": "stream",
     "text": [
      "durenze.\n",
      "rose.\n",
      "brany.\n",
      "raynan.\n",
      "adij.\n",
      "joylah.\n",
      "calline.\n",
      "wilson.\n",
      "shameen.\n",
      "cashison.\n",
      "hanneh.\n",
      "denone.\n",
      "naviera.\n",
      "annistofio.\n",
      "geovanne.\n",
      "allsana.\n",
      "nahmayo.\n",
      "juliano.\n",
      "dayson.\n",
      "hana.\n"
     ]
    }
   ],
   "source": [
    "for _ in range(20):\n",
    "    out = []\n",
    "    context = [0] * block_size\n",
    "    while True:\n",
    "        # make sure that the layer.training is set False or else we will be giving a single input to a batch norm, \n",
    "        # var of single number is nan, mean will be ok though\n",
    "        logits = model(torch.tensor([context]))\n",
    "        probs = F.softmax(logits, dim=1) # calculate probs from logits with softmax\n",
    "        ix = torch.multinomial(probs, num_samples = 1).item()\n",
    "        out.append(ix)\n",
    "        context = context[1:] + [ix] # update the context\n",
    "        if ix == 0: # EOS\n",
    "            break\n",
    "\n",
    "    print(\"\".join(itos_lookups[i] for i in out))"
   ]
  },
  {
   "cell_type": "markdown",
   "metadata": {},
   "source": [
    "for analysing the layers with an example"
   ]
  },
  {
   "cell_type": "code",
   "execution_count": 224,
   "metadata": {},
   "outputs": [
    {
     "name": "stdout",
     "output_type": "stream",
     "text": [
      "torch.Size([4, 8])\n"
     ]
    },
    {
     "data": {
      "text/plain": [
       "tensor([[ 0,  0,  0,  0, 16,  8,  9, 12],\n",
       "        [ 0,  0,  0, 13,  1, 12,  3, 15],\n",
       "        [ 0,  0,  0,  8,  5, 18, 13,  5],\n",
       "        [ 1, 18,  9, 19, 20,  5, 12, 12]])"
      ]
     },
     "execution_count": 224,
     "metadata": {},
     "output_type": "execute_result"
    }
   ],
   "source": [
    "ix = torch.randint(0, X_tr.shape[0], (4, )) # batch of 4 examples\n",
    "Xb, Yb = X_tr[ix], Y_tr[ix]\n",
    "logits = model(Xb)\n",
    "print(Xb.shape)\n",
    "Xb"
   ]
  },
  {
   "cell_type": "code",
   "execution_count": 225,
   "metadata": {},
   "outputs": [
    {
     "name": "stdout",
     "output_type": "stream",
     "text": [
      "Embedding : (4, 8, 10)\n",
      "FlattenConsecutive : (4, 4, 20)\n",
      "Linear : (4, 4, 68)\n",
      "BatchNorm1d : (4, 4, 68)\n",
      "Tanh : (4, 4, 68)\n",
      "FlattenConsecutive : (4, 2, 136)\n",
      "Linear : (4, 2, 68)\n",
      "BatchNorm1d : (4, 2, 68)\n",
      "Tanh : (4, 2, 68)\n",
      "FlattenConsecutive : (4, 136)\n",
      "Linear : (4, 68)\n",
      "BatchNorm1d : (4, 68)\n",
      "Tanh : (4, 68)\n",
      "Linear : (4, 27)\n"
     ]
    }
   ],
   "source": [
    "for layer in model.layers:\n",
    "    print(layer.__class__.__name__,':', tuple(layer.out.shape))"
   ]
  },
  {
   "cell_type": "markdown",
   "metadata": {},
   "source": [
    " __Reference: [Neural Networks: Zero to Hero by **Anderj Karpathy**](https://youtu.be/VMj-3S1tku0?si=nt0sYb9Rs2g4qApr)__"
   ]
  }
 ],
 "metadata": {
  "kernelspec": {
   "display_name": "Python 3.12.4 ('genAI')",
   "language": "python",
   "name": "python3"
  },
  "language_info": {
   "codemirror_mode": {
    "name": "ipython",
    "version": 3
   },
   "file_extension": ".py",
   "mimetype": "text/x-python",
   "name": "python",
   "nbconvert_exporter": "python",
   "pygments_lexer": "ipython3",
   "version": "3.12.4"
  },
  "orig_nbformat": 4,
  "vscode": {
   "interpreter": {
    "hash": "cdc7a2fc295da552623d6189d2d73e88b479f44ab32ab05a73d51a9a8b2f91f6"
   }
  }
 },
 "nbformat": 4,
 "nbformat_minor": 2
}
